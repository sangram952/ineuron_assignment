{
 "cells": [
  {
   "cell_type": "markdown",
   "id": "3e232303",
   "metadata": {},
   "source": [
    "# python assi 6\n",
    "1. What are escape characters, and how do you use them?\n",
    "2. What do the escape characters n and t stand for?\n",
    "3. What is the way to include backslash characters in a string?\n",
    "4. The string &quot;Howl&#39;s Moving Castle&quot; is a correct value. Why isn&#39;t the single quote character in the\n",
    "word Howl&#39;s not escaped a problem?\n",
    "5. How do you write a string of newlines if you don&#39;t want to use the n character?\n",
    "6. What are the values of the given expressions?\n",
    "&#39;Hello, world!&#39;[1]\n",
    "&#39;Hello, world!&#39;[0:5]\n",
    "&#39;Hello, world!&#39;[:5]\n",
    "&#39;Hello, world!&#39;[3:]\n",
    "\n",
    "7. What are the values of the following expressions?\n",
    "&#39;Hello&#39;.upper()\n",
    "&#39;Hello&#39;.upper().isupper()\n",
    "&#39;Hello&#39;.upper().lower()\n",
    "8. What are the values of the following expressions?\n",
    "&#39;Remember, remember, the fifth of July.&#39;.split()\n",
    "&#39;-&#39;.join(&#39;There can only one.&#39;.split())\n",
    "9. What are the methods for right-justifying, left-justifying, and centering a string?\n",
    "10. What is the best way to remove whitespace characters from the start or end?"
   ]
  },
  {
   "cell_type": "code",
   "execution_count": null,
   "id": "0932b778",
   "metadata": {},
   "outputs": [],
   "source": [
    "#1. What are escape characters, and how do you use them?\n",
    "   \n",
    "\n",
    "Ans1:-\n",
    "\n",
    "Escape characters are used to insert special characters or we can say which are not premiaple characters in a string. \n",
    "An escape character is a backslash \\ followed by the character you want to insert.\n",
    "\n",
    "Example:-\n",
    "\n",
    "s = 'Hey, What's up?' #It will cause an SyntaxError.\n",
    "\n",
    "To fix this error:-\n",
    "\n",
    "s = 'Hey, What\\'s up?'\n",
    "\n",
    "\n",
    "\n",
    "There are many escape characters, some of them are given below:-\n",
    "\n",
    "\n",
    "\\'    Single Quote\n",
    "\\\\    Backslash\n",
    "\\n    New Line\n",
    "\\r    Carriage Return\n",
    "\\t    Tab\n",
    "\\b    Backspace\n",
    "\\f    Form Feed\n",
    "\\ooo  Octal value\n",
    "\\xhh  Hex value\n"
   ]
  },
  {
   "cell_type": "code",
   "execution_count": null,
   "id": "33026327",
   "metadata": {},
   "outputs": [],
   "source": [
    "#2. What do the escape characters n and t stand for?\n",
    "\n",
    "Escape character n stands for New Line.(\\n)\n",
    "Escape character t stands for Tab.(\\t)\n"
   ]
  },
  {
   "cell_type": "code",
   "execution_count": null,
   "id": "f45aeb53",
   "metadata": {},
   "outputs": [],
   "source": [
    "#3. What is the way to include backslash characters in a string?\n",
    "\n",
    "we will use escape character \\ with a backslash character(\\\\)."
   ]
  },
  {
   "cell_type": "code",
   "execution_count": null,
   "id": "10090e89",
   "metadata": {},
   "outputs": [],
   "source": [
    "#4. The string \"Howl's Moving Castle\" is a correct value. Why isn't the single quote character\\in the word Howl's not escaped a problem?\n",
    "\n",
    "\n",
    "Here, we are using single quote character inside the double quoted string.That's why It didn't make any conflict\\\n",
    "with double quotes.\n",
    "\n",
    "s = \"Howl's Moving Castle\"  #It is a correct string value, didn't conflict with double quotes.\n",
    "\n",
    "s = 'Howl's Moving Castle'  #Here, It will generate SyntaxError\n"
   ]
  },
  {
   "cell_type": "code",
   "execution_count": null,
   "id": "7f49cab9",
   "metadata": {},
   "outputs": [],
   "source": [
    "## 5. How do you write a string of newlines if you don't want to use the n character ?\n",
    "\n",
    "we ca write multiple lines by usng multiple print oprations\n",
    "\n",
    "we can also use print statemene with end notataion.\n",
    "\n",
    "\n"
   ]
  },
  {
   "cell_type": "code",
   "execution_count": 2,
   "id": "663068a1",
   "metadata": {},
   "outputs": [
    {
     "data": {
      "text/plain": [
       "'lo, world!'"
      ]
     },
     "execution_count": 2,
     "metadata": {},
     "output_type": "execute_result"
    }
   ],
   "source": [
    "## 6. What are the values of the given expressions? \n",
    "\n",
    "'Hello, world!'[1] = e\n",
    "'Hello, world!'[0:5] = Hello\n",
    "'Hello, world!'[:5]  = Hello\n",
    "'Hello, world!'[3:] =  lo, world!"
   ]
  },
  {
   "cell_type": "code",
   "execution_count": 7,
   "id": "1ec3dafe",
   "metadata": {},
   "outputs": [
    {
     "data": {
      "text/plain": [
       "'hello'"
      ]
     },
     "execution_count": 7,
     "metadata": {},
     "output_type": "execute_result"
    }
   ],
   "source": [
    "## 7.What are the values of the following expressions? \n",
    "\n",
    "'Hello'.upper()             = HELLO\n",
    "'Hello'.upper().isupper()   = True\n",
    "'Hello'.upper().lower()    =  hello"
   ]
  },
  {
   "cell_type": "code",
   "execution_count": null,
   "id": "0eeab320",
   "metadata": {},
   "outputs": [],
   "source": [
    "\n",
    "## 8. What are the values of the following expressions? \n",
    "\n",
    "'Remember, remember, the fifth of July.'.split()  =  ['Remember,', 'remember,', 'the', 'fifth', 'of', 'July.']\n",
    "'-'.join('There can only one.'.split())           = 'There-can-only-one.'\n"
   ]
  },
  {
   "cell_type": "code",
   "execution_count": 23,
   "id": "a1e5338b",
   "metadata": {},
   "outputs": [
    {
     "name": "stdout",
     "output_type": "stream",
     "text": [
      "       banana       \n",
      "00000000000000banana\n",
      "banana00000000000000\n"
     ]
    },
    {
     "data": {
      "text/plain": [
       "20"
      ]
     },
     "execution_count": 23,
     "metadata": {},
     "output_type": "execute_result"
    }
   ],
   "source": [
    "## 9. What are the methods for right-justifying, left-justifying, and centering a string?\n",
    "\n",
    "\n",
    "##right-justifying (.rjust(\"len\" , \"filler\")) - it will set the fix length for given string and adds reamining charactes as filler\n",
    "## keep the input string on rightside \n",
    "\n",
    "##left-justifying (.ljust(\"len\" , \"filler\"))  - it will set the fix length for given string and adds reamining charactes as filler\n",
    "## keep the input string on rightside \n",
    "\n",
    "\n",
    "##centering a string - (.center())\n",
    "\n",
    "\n",
    "txt = \"banana\"\n",
    "\n",
    "\n",
    "x = txt.center(20)\n",
    "\n",
    "print(x)\n",
    "\n",
    "txt = \"banana\"\n",
    "\n",
    "x = txt.rjust(20, \"0\")\n",
    "\n",
    "print(x)\n",
    "\n",
    "x = txt.ljust(20, \"0\")\n",
    "\n",
    "print(x)\n",
    "\n",
    "len(x)\n",
    "\n",
    "\n",
    "\n",
    "\n"
   ]
  },
  {
   "cell_type": "code",
   "execution_count": null,
   "id": "98ed6964",
   "metadata": {},
   "outputs": [],
   "source": [
    "## 10 What is the best way to remove whitespace characters from the start or end?\n",
    "\n",
    "we can use .strip() to remove white space form both end"
   ]
  },
  {
   "cell_type": "code",
   "execution_count": null,
   "id": "e3e28519",
   "metadata": {},
   "outputs": [],
   "source": []
  },
  {
   "cell_type": "code",
   "execution_count": null,
   "id": "8bb48a09",
   "metadata": {},
   "outputs": [],
   "source": []
  }
 ],
 "metadata": {
  "kernelspec": {
   "display_name": "Python 3",
   "language": "python",
   "name": "python3"
  },
  "language_info": {
   "codemirror_mode": {
    "name": "ipython",
    "version": 3
   },
   "file_extension": ".py",
   "mimetype": "text/x-python",
   "name": "python",
   "nbconvert_exporter": "python",
   "pygments_lexer": "ipython3",
   "version": "3.8.8"
  }
 },
 "nbformat": 4,
 "nbformat_minor": 5
}
