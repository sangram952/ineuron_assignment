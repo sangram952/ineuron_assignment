{
 "cells": [
  {
   "cell_type": "markdown",
   "id": "2fef45c8",
   "metadata": {},
   "source": [
    "# Python assignment 04\n",
    "1. What exactly is []?\n",
    "2. In a list of values stored in a variable called spam, how would you assign the value &#39;hello&#39; as the\n",
    "third value? (Assume [2, 4, 6, 8, 10] are in spam.)\n",
    "Let&#39;s pretend the spam includes the list [&#39;a&#39;, &#39;b&#39;, &#39;c&#39;, &#39;d&#39;] for the next three queries.\n",
    "3. What is the value of spam[int(int(&#39;3&#39; * 2) / 11)]?\n",
    "4. What is the value of spam[-1]?\n",
    "5. What is the value of spam[:2]?\n",
    "Let&#39;s pretend bacon has the list [3.14, &#39;cat,&#39; 11, &#39;cat,&#39; True] for the next three questions.\n",
    "6. What is the value of bacon.index(&#39;cat&#39;)?\n",
    "7. How does bacon.append(99) change the look of the list value in bacon?\n",
    "8. How does bacon.remove(&#39;cat&#39;) change the look of the list in bacon?\n",
    "9. What are the list concatenation and list replication operators?\n",
    "10. What is difference between the list methods append() and insert()?\n",
    "11. What are the two methods for removing items from a list?\n",
    "12. Describe how list values and string values are identical.\n",
    "13. What&#39;s the difference between tuples and lists?\n",
    "14. How do you type a tuple value that only contains the integer 42?\n",
    "15. How do you get a list value&#39;s tuple form? How do you get a tuple value&#39;s list form?\n",
    "16. Variables that &quot;contain&quot; list values are not necessarily lists themselves. Instead, what do they\n",
    "contain?\n",
    "17. How do you distinguish between copy.copy() and copy.deepcopy()?"
   ]
  },
  {
   "cell_type": "markdown",
   "id": "9abcc2b9",
   "metadata": {},
   "source": [
    "# 1 What exactly is []?\n",
    "\n",
    "it is notation for empty list"
   ]
  },
  {
   "cell_type": "code",
   "execution_count": 5,
   "id": "3c6e4697",
   "metadata": {},
   "outputs": [
    {
     "data": {
      "text/plain": [
       "[2, 4, 'hello', 8, 10]"
      ]
     },
     "execution_count": 5,
     "metadata": {},
     "output_type": "execute_result"
    }
   ],
   "source": [
    "# 2 In a list of values stored in a variable called spam, how would you assign the value 'hello' as the third value? (Assume [2, 4, 6, 8, 10] are in spam.) \n",
    "\n",
    "spam = [2,4,6,8,10]\n",
    "spam[2] = \"hello\"\n",
    "spam\n"
   ]
  },
  {
   "cell_type": "code",
   "execution_count": 7,
   "id": "9b624996",
   "metadata": {},
   "outputs": [
    {
     "data": {
      "text/plain": [
       "8"
      ]
     },
     "execution_count": 7,
     "metadata": {},
     "output_type": "execute_result"
    }
   ],
   "source": [
    "# 3. What is the value of spam[int(int('3' * 2) / 11)]?\n",
    "\n",
    "#this code is accessing 3 rd index of spam\n",
    "spam[int(int('3' * 2) / 11)]\n"
   ]
  },
  {
   "cell_type": "code",
   "execution_count": 9,
   "id": "43e969ed",
   "metadata": {},
   "outputs": [
    {
     "data": {
      "text/plain": [
       "10"
      ]
     },
     "execution_count": 9,
     "metadata": {},
     "output_type": "execute_result"
    }
   ],
   "source": [
    "##4. What is the value of spam[-1]?\n",
    "\n",
    "spam[-1]\n",
    "\n"
   ]
  },
  {
   "cell_type": "code",
   "execution_count": 16,
   "id": "e8207cee",
   "metadata": {},
   "outputs": [
    {
     "data": {
      "text/plain": [
       "[2, 4]"
      ]
     },
     "execution_count": 16,
     "metadata": {},
     "output_type": "execute_result"
    }
   ],
   "source": [
    "## 5 What is the value of spam[:2]?\n",
    "## thsi code is accessing 0 and 1 index of spam\n",
    "spam[:2]\n"
   ]
  },
  {
   "cell_type": "code",
   "execution_count": 26,
   "id": "5e58236b",
   "metadata": {},
   "outputs": [],
   "source": [
    " ## Let's pretend bacon has the list [3.14, 'cat,' 11, 'cat,' True] for the next three questions.\n",
    "    \n",
    "bacon = [3.14, 'cat', 11, 'cat', True]     \n",
    "    \n",
    "    \n",
    "    "
   ]
  },
  {
   "cell_type": "code",
   "execution_count": 27,
   "id": "cfe833f1",
   "metadata": {},
   "outputs": [
    {
     "data": {
      "text/plain": [
       "1"
      ]
     },
     "execution_count": 27,
     "metadata": {},
     "output_type": "execute_result"
    }
   ],
   "source": [
    "## 6 What is the value of bacon.index('cat')?\n",
    "\n",
    "## thsi give index of frist occurence of cat\n",
    "\n",
    "bacon.index('cat')"
   ]
  },
  {
   "cell_type": "code",
   "execution_count": 28,
   "id": "31876149",
   "metadata": {},
   "outputs": [
    {
     "data": {
      "text/plain": [
       "[3.14, 'cat', 11, 'cat', True, 99]"
      ]
     },
     "execution_count": 28,
     "metadata": {},
     "output_type": "execute_result"
    }
   ],
   "source": [
    "## 7 How does bacon.append(99) change the look of the list value in bacon?\n",
    "\n",
    "# thsi code add 99 at last of list\n",
    "\n",
    "\n",
    "bacon.append(99) \n",
    "\n",
    "bacon\n",
    "\n"
   ]
  },
  {
   "cell_type": "code",
   "execution_count": 29,
   "id": "27ad1426",
   "metadata": {},
   "outputs": [
    {
     "data": {
      "text/plain": [
       "[3.14, 11, 'cat', True, 99]"
      ]
     },
     "execution_count": 29,
     "metadata": {},
     "output_type": "execute_result"
    }
   ],
   "source": [
    "## 8 How does bacon.remove('cat') change the look of the list in bacon?\n",
    "\n",
    "## it emoves frist occurence of cat from list\n",
    "\n",
    "bacon.remove('cat')\n",
    "\n",
    "bacon"
   ]
  },
  {
   "cell_type": "markdown",
   "id": "95b0cd17",
   "metadata": {},
   "source": [
    "# 9. What are the list concatenation and list replication operators?\n",
    "\n",
    "we can join two listes by using \n",
    "for loop,\n",
    "by using + operator,\n",
    "by using list.extend() operator,\n",
    "by using itertools.chain() operator\n",
    "\n",
    "we can  replicate list by using * symbol"
   ]
  },
  {
   "cell_type": "markdown",
   "id": "0474a66f",
   "metadata": {},
   "source": [
    "# 10 What is difference between the list methods append() and insert()?\n",
    "\n",
    ".append() - will add new index at last of list\n",
    "\n",
    ".insert()  - will insert new variable at specific index\n",
    "\n"
   ]
  },
  {
   "cell_type": "code",
   "execution_count": 34,
   "id": "934e686a",
   "metadata": {},
   "outputs": [
    {
     "data": {
      "text/plain": [
       "[3.14, 11, 'cat', True, 99, 10, 10, 10, 10, 5]"
      ]
     },
     "execution_count": 34,
     "metadata": {},
     "output_type": "execute_result"
    }
   ],
   "source": [
    "bacon.append(10)\n",
    "bacon.insert(15,5)\n",
    "bacon"
   ]
  },
  {
   "cell_type": "markdown",
   "id": "79be617b",
   "metadata": {},
   "source": [
    "\n",
    "# 11. What are the two methods for removing items from a list?\n",
    "The remove() method removes the specified item\n",
    "\n",
    "The pop() method removes the specified index, (or the last item if index is not specified)\n",
    "\n",
    "The del list[]  keyword removes the specified index\n",
    "\n",
    "The del list keyword can also delete the list completely\n",
    "    \n"
   ]
  },
  {
   "cell_type": "markdown",
   "id": "edc8a0d1",
   "metadata": {},
   "source": [
    "# 12 Describe how list values and string values are identical. \n",
    "\n",
    "both can be sliced by usng for loop "
   ]
  },
  {
   "cell_type": "markdown",
   "id": "1c13cfc4",
   "metadata": {},
   "source": [
    "# 13. What's the difference between tuples and lists?\n",
    "\n",
    "SR.NO.\tLIST\t                                                            TUPLE\n",
    "1\tLists are mutable\t                                            Tuples are immutable\n",
    "\n",
    "2\tImplication of iterations is Time-consuming\t                    The implication of iterations is comparatively Faster\n",
    "\n",
    "\n",
    "3\tThe list is better for performing operations, such as insertion and deletion.   \tTuple data type is appropriate for accessing the elements\n",
    "\n",
    "4\tLists consume more memory\t                                     Tuple consume less memory as compared to the list\n",
    "\n",
    "5\tLists have several built-in methods\t                              Tuple does not have many\n",
    "\n",
    "6\tThe unexpected changes and errors are more likely to occur\t      In tuple, it is hard to take place.\n",
    "\n"
   ]
  },
  {
   "cell_type": "code",
   "execution_count": null,
   "id": "5ef8b24d",
   "metadata": {},
   "outputs": [],
   "source": [
    "## 14 How do you type a tuple value that only contains the integer 42?\n",
    "\n",
    "tuple with single int value will return int type, "
   ]
  },
  {
   "cell_type": "code",
   "execution_count": 42,
   "id": "bf20851a",
   "metadata": {},
   "outputs": [
    {
     "data": {
      "text/plain": [
       "(int, tuple)"
      ]
     },
     "execution_count": 42,
     "metadata": {},
     "output_type": "execute_result"
    }
   ],
   "source": [
    "s= (42) \n",
    "l = (25,56)\n",
    "type(s) , type(l)"
   ]
  },
  {
   "cell_type": "markdown",
   "id": "2dca3e86",
   "metadata": {},
   "source": [
    "# 15 How do you get a list value's tuple form? How do you get a tuple value's list form?\n",
    "\n",
    "list from tuple\n",
    "\n",
    "my_list = list(ny_tuple)\n",
    "\n",
    "\n",
    "tuple from list \n",
    "\n",
    "my_tuple = tuple(my_list)\n",
    "\n"
   ]
  },
  {
   "cell_type": "markdown",
   "id": "5ad3caf8",
   "metadata": {},
   "source": [
    "# 16 Variables that \"contain\" list values are not necessarily lists themselves. Instead, what do they contain?\n",
    "\n",
    "list van be saved inside dictonary and tuple "
   ]
  },
  {
   "cell_type": "markdown",
   "id": "c60c84ba",
   "metadata": {},
   "source": [
    "# 17 How do you distinguish between copy.copy() and copy.deepcopy()?\n",
    "\n",
    ".copy() - copies all tha data and change made on orignal item will reflected in copied item\n",
    "\n",
    ".deepcopy() - will create new vatiable with same data at diffretn location which  cannont afftected by any opration on orignal item"
   ]
  },
  {
   "cell_type": "code",
   "execution_count": null,
   "id": "42517c13",
   "metadata": {},
   "outputs": [],
   "source": []
  }
 ],
 "metadata": {
  "kernelspec": {
   "display_name": "Python 3",
   "language": "python",
   "name": "python3"
  },
  "language_info": {
   "codemirror_mode": {
    "name": "ipython",
    "version": 3
   },
   "file_extension": ".py",
   "mimetype": "text/x-python",
   "name": "python",
   "nbconvert_exporter": "python",
   "pygments_lexer": "ipython3",
   "version": "3.8.8"
  }
 },
 "nbformat": 4,
 "nbformat_minor": 5
}
